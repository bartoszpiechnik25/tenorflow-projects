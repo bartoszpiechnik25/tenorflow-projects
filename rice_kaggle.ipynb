{
 "cells": [
  {
   "cell_type": "markdown",
   "metadata": {},
   "source": [
    "## Rice Clasisfication\n",
    "\n",
    "Given dataset from kaggle with rice images we are going to create Convolutional Neural Network to detect different rice types."
   ]
  },
  {
   "cell_type": "code",
   "execution_count": 11,
   "metadata": {},
   "outputs": [],
   "source": [
    "import os\n",
    "import zipfile\n",
    "import matplotlib.pyplot as plt\n",
    "import numpy as np\n",
    "\n",
    "%matplotlib inline\n",
    "\n",
    "DATA_PATH = os.path.join(os.getcwd(), 'data/')\n",
    "RICE_PATH = os.path.join(DATA_PATH, 'rice_dataset/')\n"
   ]
  },
  {
   "cell_type": "markdown",
   "metadata": {},
   "source": [
    "### Data preparation\n",
    "\n",
    "Preprocess data and create train/validation split"
   ]
  },
  {
   "cell_type": "code",
   "execution_count": 12,
   "metadata": {},
   "outputs": [],
   "source": [
    "zip_path = os.path.join(RICE_PATH, 'archive.zip')\n",
    "\n",
    "zip_file = zipfile.ZipFile(zip_path, 'r')\n",
    "zip_file.extractall(RICE_PATH)\n",
    "zip_file.close()\n",
    "os.remove(zip_path)"
   ]
  },
  {
   "cell_type": "code",
   "execution_count": 50,
   "metadata": {},
   "outputs": [
    {
     "name": "stdout",
     "output_type": "stream",
     "text": [
      "{'Karacadag': 15000, 'Arborio': 15000, 'Jasmine': 15000, 'Ipsala': 15000, 'Basmati': 15000}\n"
     ]
    }
   ],
   "source": [
    "dataset_path = os.path.join(RICE_PATH, 'Rice_Image_Dataset/')\n",
    "\n",
    "def data_counter(path):\n",
    "    \"\"\"\n",
    "    Counts images in each directory\n",
    "\n",
    "    Args:\n",
    "      -path (string): directory path containing images\n",
    "    \n",
    "    Returns:\n",
    "      Dictionary containing directory names as keys and number of\n",
    "      files in directory as values.\n",
    "    \"\"\"\n",
    "    directory = os.listdir(path)\n",
    "    values = {directory[i]: 0 for i in range(len(directory))}\n",
    "    for folder in directory:\n",
    "        folder_path = os.path.join(path, folder)\n",
    "        for img in os.listdir(folder_path):\n",
    "            img_path = os.path.join(folder_path, img)\n",
    "            if os.path.getsize(img_path) == 0:\n",
    "                os.remove(img_path)\n",
    "            else:\n",
    "                values[folder] += 1\n",
    "\n",
    "    return values\n",
    "\n",
    "print(data_counter(dataset_path))"
   ]
  },
  {
   "cell_type": "code",
   "execution_count": 39,
   "metadata": {},
   "outputs": [
    {
     "name": "stdout",
     "output_type": "stream",
     "text": [
      "Random image size from Karacadag directory is: ((250, 250), 'RGB')\n",
      "Random image size from Arborio directory is: ((250, 250), 'RGB')\n",
      "Random image size from Jasmine directory is: ((250, 250), 'RGB')\n",
      "Random image size from Ipsala directory is: ((250, 250), 'RGB')\n",
      "Random image size from Basmati directory is: ((250, 250), 'RGB')\n"
     ]
    }
   ],
   "source": [
    "from PIL import Image\n",
    "from random import sample\n",
    "\n",
    "def print_size(dir):\n",
    "    \"\"\"\n",
    "    Print size of random image from each directory\n",
    "\n",
    "    Args:\n",
    "      -dir (string): directory path containing images\n",
    "    \n",
    "    Returns:\n",
    "      None\n",
    "    \"\"\"\n",
    "    for directory in os.listdir(dir):\n",
    "        directory_path = os.path.join(dir, directory)\n",
    "        image_p = sample(os.listdir(directory_path), 1)[0]\n",
    "        image = Image.open(os.path.join(directory_path, image_p))\n",
    "        print(f\"Random image size from {directory} directory is: {image.size, image.mode}\")\n",
    "\n",
    "\n",
    "print_size(dataset_path)"
   ]
  },
  {
   "cell_type": "code",
   "execution_count": 66,
   "metadata": {},
   "outputs": [
    {
     "name": "stdout",
     "output_type": "stream",
     "text": [
      "Data directories:\n",
      "-Karacadag\n",
      "-Arborio\n",
      "-Jasmine\n",
      "-Ipsala\n",
      "-Basmati\n",
      "\n",
      "Training sizes: {'Karacadag': 13500, 'Arborio': 13500, 'Jasmine': 13500, 'Ipsala': 13500, 'Basmati': 13500}\n",
      "\n",
      "Validation sizes: {'Karacadag': 1500, 'Arborio': 1500, 'Jasmine': 1500, 'Ipsala': 1500, 'Basmati': 1500}\n"
     ]
    }
   ],
   "source": [
    "from shutil import copyfile\n",
    "\n",
    "def create_train_validation(data_path, training_path, validation_path, split_s):\n",
    "    \"\"\"\n",
    "    Split the data into train and validation datasets\n",
    "\n",
    "    Args:\n",
    "      -data_path (string): directory path containing images\n",
    "      -training_path (string): directory path to be used for training\n",
    "      -validation_path (string): directory path to be used for validation\n",
    "      -split_s (float): portion of the dataset to be used for training\n",
    "\n",
    "    Returns:\n",
    "      None\n",
    "    \"\"\"\n",
    "\n",
    "    dirs = os.listdir(data_path)\n",
    "    print(\"Data directories:\")\n",
    "    for img in dirs:\n",
    "        print(f'-{img}')\n",
    "    \n",
    "    try:\n",
    "        os.makedirs(training_path)\n",
    "    except FileExistsError:\n",
    "        print('\\nTraining directory exists in this path')\n",
    "\n",
    "    try:\n",
    "        os.makedirs(validation_path)\n",
    "    except FileExistsError:\n",
    "        print('Validation directory exists in this path')\n",
    "\n",
    "    direcotries_sizes = data_counter(data_path)\n",
    "    \n",
    "    for dir in dirs:\n",
    "        train_name = os.path.join(training_path, dir)\n",
    "        validation_name = os.path.join(validation_path, dir)\n",
    "        os.makedirs(train_name)\n",
    "        os.makedirs(validation_name)\n",
    "        split = int(direcotries_sizes[dir] * split_s)\n",
    "        \n",
    "        curr_dir = os.path.join(data_path, dir)\n",
    "        dir_shuffled = sample(os.listdir(curr_dir), len(os.listdir(curr_dir)))\n",
    "\n",
    "        for img in dir_shuffled[:split]:\n",
    "            copyfile(os.path.join(curr_dir, img), os.path.join(train_name, img))\n",
    "        \n",
    "        for img in dir_shuffled[split:]:\n",
    "            copyfile(os.path.join(curr_dir, img), os.path.join(validation_name, img))\n",
    "    \n",
    "    print(f'\\nTraining sizes: {data_counter(training_path)}')\n",
    "    print(f'\\nValidation sizes: {data_counter(validation_path)}')\n",
    "\n",
    "    return training_path, validation_path    \n",
    "\n",
    "    \n",
    "training_path, validation_path  = create_train_validation(dataset_path, os.path.join(dataset_path, 'training/'), os.path.join(dataset_path, 'validation/'), .9)"
   ]
  },
  {
   "cell_type": "markdown",
   "metadata": {},
   "source": [
    "Using ImageDataGenerator we are using data augumentation to prevent overfitting and extend our training set."
   ]
  },
  {
   "cell_type": "code",
   "execution_count": 100,
   "metadata": {},
   "outputs": [],
   "source": [
    "from keras.preprocessing.image import ImageDataGenerator\n",
    "\n",
    "def create_data(train_path, validation_path):\n",
    "    \"\"\"\n",
    "    Create training validation data split\n",
    "\n",
    "    Args:\n",
    "      -training_path (string): directory path to be used for training\n",
    "      -validation_path (string): directory path to be used for validation\n",
    "\n",
    "    Returns:\n",
    "      \n",
    "    \"\"\"\n",
    "    #Create training data\n",
    "    train_datagen = ImageDataGenerator(rescale=1/255,\n",
    "                                        rotation_range=45,\n",
    "                                        horizontal_flip=True,\n",
    "                                        fill_mode='nearest',\n",
    "                                        width_shift_range=0.2,\n",
    "                                        height_shift_range=0.2)\n",
    "\n",
    "    train_generate = train_datagen.flow_from_directory(directory=train_path,\n",
    "                                                      target_size=(250, 250),\n",
    "                                                      class_mode='categorical',\n",
    "                                                      batch_size=256)\n",
    "\n",
    "                                                      \n",
    "    #Create validation data                                                      \n",
    "    validation_datagen = ImageDataGenerator(rescale=1/255)\n",
    "\n",
    "    validation_generate = validation_datagen.flow_from_directory(directory=validation_path,\n",
    "                                                                class_mode='categorical',\n",
    "                                                                batch_size=32,\n",
    "                                                                target_size=(250, 250))\n",
    "    return train_generate, validation_generate                                                                "
   ]
  },
  {
   "cell_type": "code",
   "execution_count": 101,
   "metadata": {},
   "outputs": [
    {
     "name": "stdout",
     "output_type": "stream",
     "text": [
      "Found 67500 images belonging to 5 classes.\n",
      "Found 7500 images belonging to 5 classes.\n"
     ]
    }
   ],
   "source": [
    "training_data, validation_data = create_data(training_path, validation_path)"
   ]
  },
  {
   "cell_type": "markdown",
   "metadata": {},
   "source": [
    "### Create model using TensorFlow functional API\n",
    "\n",
    "We are creating deep network with 6 convolution and max pooling layers every one of them normalized and 2 hidden layers."
   ]
  },
  {
   "cell_type": "code",
   "execution_count": 102,
   "metadata": {},
   "outputs": [
    {
     "name": "stdout",
     "output_type": "stream",
     "text": [
      "Model: \"RiceClassification\"\n",
      "_________________________________________________________________\n",
      " Layer (type)                Output Shape              Param #   \n",
      "=================================================================\n",
      " input_17 (InputLayer)       [(None, 250, 250, 3)]     0         \n",
      "                                                                 \n",
      " conv2d_79 (Conv2D)          (None, 248, 248, 16)      448       \n",
      "                                                                 \n",
      " batch_normalization_77 (Bat  (None, 248, 248, 16)     64        \n",
      " chNormalization)                                                \n",
      "                                                                 \n",
      " max_pooling2d_59 (MaxPoolin  (None, 124, 124, 16)     0         \n",
      " g2D)                                                            \n",
      "                                                                 \n",
      " conv2d_80 (Conv2D)          (None, 122, 122, 32)      4640      \n",
      "                                                                 \n",
      " batch_normalization_78 (Bat  (None, 122, 122, 32)     128       \n",
      " chNormalization)                                                \n",
      "                                                                 \n",
      " max_pooling2d_60 (MaxPoolin  (None, 61, 61, 32)       0         \n",
      " g2D)                                                            \n",
      "                                                                 \n",
      " conv2d_81 (Conv2D)          (None, 57, 57, 64)        51264     \n",
      "                                                                 \n",
      " batch_normalization_79 (Bat  (None, 57, 57, 64)       256       \n",
      " chNormalization)                                                \n",
      "                                                                 \n",
      " max_pooling2d_61 (MaxPoolin  (None, 28, 28, 64)       0         \n",
      " g2D)                                                            \n",
      "                                                                 \n",
      " conv2d_82 (Conv2D)          (None, 24, 24, 128)       204928    \n",
      "                                                                 \n",
      " batch_normalization_80 (Bat  (None, 24, 24, 128)      512       \n",
      " chNormalization)                                                \n",
      "                                                                 \n",
      " max_pooling2d_62 (MaxPoolin  (None, 12, 12, 128)      0         \n",
      " g2D)                                                            \n",
      "                                                                 \n",
      " conv2d_83 (Conv2D)          (None, 6, 6, 256)         1605888   \n",
      "                                                                 \n",
      " batch_normalization_81 (Bat  (None, 6, 6, 256)        1024      \n",
      " chNormalization)                                                \n",
      "                                                                 \n",
      " conv2d_84 (Conv2D)          (None, 4, 4, 512)         1180160   \n",
      "                                                                 \n",
      " batch_normalization_82 (Bat  (None, 4, 4, 512)        2048      \n",
      " chNormalization)                                                \n",
      "                                                                 \n",
      " flatten_9 (Flatten)         (None, 8192)              0         \n",
      "                                                                 \n",
      " dense_26 (Dense)            (None, 1024)              8389632   \n",
      "                                                                 \n",
      " dropout_14 (Dropout)        (None, 1024)              0         \n",
      "                                                                 \n",
      " dense_27 (Dense)            (None, 512)               524800    \n",
      "                                                                 \n",
      " dropout_15 (Dropout)        (None, 512)               0         \n",
      "                                                                 \n",
      " dense_28 (Dense)            (None, 5)                 2565      \n",
      "                                                                 \n",
      "=================================================================\n",
      "Total params: 11,968,357\n",
      "Trainable params: 11,966,341\n",
      "Non-trainable params: 2,016\n",
      "_________________________________________________________________\n"
     ]
    }
   ],
   "source": [
    "from keras.layers import Conv2D, MaxPooling2D, BatchNormalization, Dense, Dropout, Flatten\n",
    "from keras import Input, Model\n",
    "\n",
    "inputs = Input(shape=(250, 250 ,3))\n",
    "x = Conv2D(16, (3, 3), activation='relu')(inputs)\n",
    "x = BatchNormalization()(x)\n",
    "x = MaxPooling2D(pool_size=(2,2))(x)\n",
    "x = Conv2D(32, (3, 3), activation='relu')(x)\n",
    "x = BatchNormalization()(x)\n",
    "x = MaxPooling2D(2,2)(x)\n",
    "x = Conv2D(64, (5, 5), activation='relu')(x)\n",
    "x = BatchNormalization()(x)\n",
    "x = MaxPooling2D(pool_size=(2,2), strides=2)(x)\n",
    "x = Conv2D(128, (5, 5), activation='relu')(x)\n",
    "x = BatchNormalization()(x)\n",
    "x = MaxPooling2D(pool_size=(2,2))(x)\n",
    "x = Conv2D(256, (7, 7), activation='relu')(x)\n",
    "x = BatchNormalization()(x)\n",
    "x = Conv2D(512, (3, 3), activation='relu')(x)\n",
    "x = BatchNormalization()(x)\n",
    "x = Flatten()(x)\n",
    "x = Dense(1024, activation='relu')(x)\n",
    "x = Dropout(0.4)(x)\n",
    "x = Dense(512, activation='relu')(x)\n",
    "x = Dropout(0.3)(x)\n",
    "outputs = Dense(5, activation='softmax')(x)\n",
    "\n",
    "model = Model(inputs, outputs, name='RiceClassification')\n",
    "model.summary()\n",
    "\n"
   ]
  },
  {
   "cell_type": "code",
   "execution_count": 104,
   "metadata": {},
   "outputs": [
    {
     "name": "stdout",
     "output_type": "stream",
     "text": [
      "Epoch 1/10\n",
      "264/264 [==============================] - 535s 2s/step - loss: 0.2385 - acc: 0.9268 - val_loss: 27.0985 - val_acc: 0.2048\n",
      "Epoch 2/10\n",
      "264/264 [==============================] - 529s 2s/step - loss: 0.0489 - acc: 0.9849 - val_loss: 2.3899 - val_acc: 0.6335\n",
      "Epoch 3/10\n",
      "264/264 [==============================] - 530s 2s/step - loss: 0.0237 - acc: 0.9931 - val_loss: 0.0804 - val_acc: 0.9781\n",
      "Epoch 4/10\n",
      "264/264 [==============================] - 531s 2s/step - loss: 0.0233 - acc: 0.9924 - val_loss: 0.7020 - val_acc: 0.8968\n",
      "Epoch 5/10\n",
      "264/264 [==============================] - 526s 2s/step - loss: 0.0677 - acc: 0.9828 - val_loss: 3.4974 - val_acc: 0.7345\n",
      "Epoch 6/10\n",
      "264/264 [==============================] - 529s 2s/step - loss: 0.0261 - acc: 0.9929 - val_loss: 0.0231 - val_acc: 0.9929\n",
      "Epoch 7/10\n",
      "264/264 [==============================] - 526s 2s/step - loss: 0.0177 - acc: 0.9950 - val_loss: 0.0433 - val_acc: 0.9863\n",
      "Epoch 8/10\n",
      "264/264 [==============================] - 529s 2s/step - loss: 0.0154 - acc: 0.9959 - val_loss: 3.7149 - val_acc: 0.6723\n",
      "Epoch 9/10\n",
      "264/264 [==============================] - 531s 2s/step - loss: 0.0116 - acc: 0.9968 - val_loss: 1.4769 - val_acc: 0.8513\n",
      "Epoch 10/10\n",
      "264/264 [==============================] - 529s 2s/step - loss: 0.0126 - acc: 0.9966 - val_loss: 0.0132 - val_acc: 0.9964\n"
     ]
    }
   ],
   "source": [
    "model.compile(optimizer='adam',\n",
    "             loss='categorical_crossentropy',\n",
    "             metrics=['acc'])\n",
    "\n",
    "history = model.fit(training_data,\n",
    "                    epochs=10,\n",
    "                    validation_data=validation_data)"
   ]
  },
  {
   "cell_type": "markdown",
   "metadata": {},
   "source": [
    "Our model scores  99.6% accuracy on validation set, we could use callback to stop training at epoch 6 where accuracy was also very high."
   ]
  },
  {
   "cell_type": "markdown",
   "metadata": {},
   "source": [
    "#### Plotting learning curves"
   ]
  },
  {
   "cell_type": "code",
   "execution_count": 105,
   "metadata": {},
   "outputs": [],
   "source": [
    "def plot_learning(model, train_param, val_param, xtitle, ytitle, plot_title, label_1, label_2):\n",
    "    plt.figure(dpi=80, figsize=(10,6))\n",
    "    plt.plot(model.history[train_param],\n",
    "            label=label_1,\n",
    "            color='darkorange')\n",
    "    plt.plot(model.history[val_param],\n",
    "            label=label_2,\n",
    "            color='skyblue')\n",
    "    plt.legend()\n",
    "    plt.title(plot_title)\n",
    "    plt.xlabel(xtitle)\n",
    "    plt.ylabel(ytitle)"
   ]
  },
  {
   "cell_type": "code",
   "execution_count": 107,
   "metadata": {},
   "outputs": [
    {
     "data": {
      "image/png": "[encoded data removed]",
      "text/plain": [
       "<Figure size 800x480 with 1 Axes>"
      ]
     },
     "metadata": {
      "needs_background": "light"
     },
     "output_type": "display_data"
    },
    {
     "data": {
      "image/png": "[encoded data removed]",
      "text/plain": [
       "<Figure size 800x480 with 1 Axes>"
      ]
     },
     "metadata": {
      "needs_background": "light"
     },
     "output_type": "display_data"
    }
   ],
   "source": [
    "plot_learning(history, 'loss', 'val_loss', xtitle='Num Epochs', ytitle='Loss', plot_title='Loss Learning Curve', label_1='Training Loss', label_2='Validation Loss')\n",
    "plot_learning(history, 'acc', 'val_acc', 'Num Epochs', 'Accuracy', plot_title='Accuracy Learning Curve', label_1='Training Accuracy', label_2='Validation Accuracy')\n"
   ]
  },
  {
   "cell_type": "code",
   "execution_count": 109,
   "metadata": {},
   "outputs": [
    {
     "name": "stdout",
     "output_type": "stream",
     "text": [
      "/bin/bash: /home/barti/miniconda3/envs/tf/lib/libtinfo.so.6: no version information available (required by /bin/bash)\n",
      "mkdir: cannot create directory ‘saved_models’: File exists\n"
     ]
    },
    {
     "name": "stderr",
     "output_type": "stream",
     "text": [
      "WARNING:absl:Found untraced functions such as _jit_compiled_convolution_op, _jit_compiled_convolution_op, _jit_compiled_convolution_op, _jit_compiled_convolution_op, _jit_compiled_convolution_op while saving (showing 5 of 6). These functions will not be directly callable after loading.\n"
     ]
    },
    {
     "name": "stdout",
     "output_type": "stream",
     "text": [
      "INFO:tensorflow:Assets written to: saved_models/rice_model/assets\n"
     ]
    },
    {
     "name": "stderr",
     "output_type": "stream",
     "text": [
      "INFO:tensorflow:Assets written to: saved_models/rice_model/assets\n"
     ]
    }
   ],
   "source": [
    "!mkdir saved_models\n",
    "\n",
    "model.save('saved_models/rice_model')"
   ]
  }
 ],
 "metadata": {
  "kernelspec": {
   "display_name": "Python 3.9.12 ('tf')",
   "language": "python",
   "name": "python3"
  },
  "language_info": {
   "codemirror_mode": {
    "name": "ipython",
    "version": 3
   },
   "file_extension": ".py",
   "mimetype": "text/x-python",
   "name": "python",
   "nbconvert_exporter": "python",
   "pygments_lexer": "ipython3",
   "version": "3.9.12"
  },
  "orig_nbformat": 4,
  "vscode": {
   "interpreter": {
    "hash": "524e827a62e851a22504cb633a8b21e398dd8e48b4ad2b53360e28277efb9acc"
   }
  }
 },
 "nbformat": 4,
 "nbformat_minor": 2
}
