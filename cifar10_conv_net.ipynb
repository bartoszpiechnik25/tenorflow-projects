{
 "cells": [
  {
   "cell_type": "markdown",
   "metadata": {},
   "source": [
    "### Cifar10 convolutional neural network"
   ]
  },
  {
   "cell_type": "markdown",
   "metadata": {},
   "source": [
    "Loading and preparing data"
   ]
  },
  {
   "cell_type": "code",
   "execution_count": 10,
   "metadata": {},
   "outputs": [],
   "source": [
    "import tensorflow as tf\n",
    "import numpy as np"
   ]
  },
  {
   "cell_type": "code",
   "execution_count": 6,
   "metadata": {},
   "outputs": [],
   "source": [
    "(X_train, y_train), (X_test, y_test) = tf.keras.datasets.cifar10.load_data()\n"
   ]
  },
  {
   "cell_type": "code",
   "execution_count": 8,
   "metadata": {},
   "outputs": [
    {
     "name": "stdout",
     "output_type": "stream",
     "text": [
      "Dataset training size X=(50000, 32, 32, 3), Y=(50000, 1), validation size X=30720000, Y=(10000, 1)\n"
     ]
    }
   ],
   "source": [
    "print(f\"Dataset training size X={X_train.shape}, Y={y_train.shape}, validation size X={X_test.size}, Y={y_test.shape}\")"
   ]
  },
  {
   "cell_type": "code",
   "execution_count": 9,
   "metadata": {},
   "outputs": [],
   "source": [
    "X_train_scaled = X_train / 255\n",
    "X_test_scaled =  X_test / 255"
   ]
  },
  {
   "cell_type": "code",
   "execution_count": 12,
   "metadata": {},
   "outputs": [
    {
     "name": "stdout",
     "output_type": "stream",
     "text": [
      "Unique output are: [0 1 2 3 4 5 6 7 8 9], where every number represents different class\n"
     ]
    }
   ],
   "source": [
    "print(f\"Unique output are: {np.unique(y_train)}, where every number represents different class\")"
   ]
  },
  {
   "cell_type": "code",
   "execution_count": 13,
   "metadata": {},
   "outputs": [],
   "source": [
    "from keras.utils import to_categorical\n",
    "y_train_one_hot = to_categorical(y_train, num_classes=10, dtype=np.float32)\n",
    "y_test_one_hot = to_categorical(y_test, num_classes=10, dtype=np.float32)"
   ]
  },
  {
   "cell_type": "code",
   "execution_count": 17,
   "metadata": {},
   "outputs": [
    {
     "name": "stderr",
     "output_type": "stream",
     "text": [
      "2022-06-23 00:56:19.492116: I tensorflow/stream_executor/cuda/cuda_gpu_executor.cc:975] successful NUMA node read from SysFS had negative value (-1), but there must be at least one NUMA node, so returning NUMA node zero\n",
      "2022-06-23 00:56:19.495626: I tensorflow/stream_executor/cuda/cuda_gpu_executor.cc:975] successful NUMA node read from SysFS had negative value (-1), but there must be at least one NUMA node, so returning NUMA node zero\n",
      "2022-06-23 00:56:19.495759: I tensorflow/stream_executor/cuda/cuda_gpu_executor.cc:975] successful NUMA node read from SysFS had negative value (-1), but there must be at least one NUMA node, so returning NUMA node zero\n",
      "2022-06-23 00:56:19.496458: I tensorflow/core/platform/cpu_feature_guard.cc:193] This TensorFlow binary is optimized with oneAPI Deep Neural Network Library (oneDNN) to use the following CPU instructions in performance-critical operations:  AVX2 FMA\n",
      "To enable them in other operations, rebuild TensorFlow with the appropriate compiler flags.\n",
      "2022-06-23 00:56:19.496927: I tensorflow/stream_executor/cuda/cuda_gpu_executor.cc:975] successful NUMA node read from SysFS had negative value (-1), but there must be at least one NUMA node, so returning NUMA node zero\n",
      "2022-06-23 00:56:19.497060: I tensorflow/stream_executor/cuda/cuda_gpu_executor.cc:975] successful NUMA node read from SysFS had negative value (-1), but there must be at least one NUMA node, so returning NUMA node zero\n",
      "2022-06-23 00:56:19.497153: I tensorflow/stream_executor/cuda/cuda_gpu_executor.cc:975] successful NUMA node read from SysFS had negative value (-1), but there must be at least one NUMA node, so returning NUMA node zero\n",
      "2022-06-23 00:56:19.852825: I tensorflow/stream_executor/cuda/cuda_gpu_executor.cc:975] successful NUMA node read from SysFS had negative value (-1), but there must be at least one NUMA node, so returning NUMA node zero\n",
      "2022-06-23 00:56:19.852948: I tensorflow/stream_executor/cuda/cuda_gpu_executor.cc:975] successful NUMA node read from SysFS had negative value (-1), but there must be at least one NUMA node, so returning NUMA node zero\n",
      "2022-06-23 00:56:19.853041: I tensorflow/stream_executor/cuda/cuda_gpu_executor.cc:975] successful NUMA node read from SysFS had negative value (-1), but there must be at least one NUMA node, so returning NUMA node zero\n",
      "2022-06-23 00:56:19.853118: I tensorflow/core/common_runtime/gpu/gpu_device.cc:1532] Created device /job:localhost/replica:0/task:0/device:GPU:0 with 10109 MB memory:  -> device: 0, name: NVIDIA GeForce GTX 1080 Ti, pci bus id: 0000:01:00.0, compute capability: 6.1\n"
     ]
    }
   ],
   "source": [
    "from keras.layers import Flatten, Layer, Conv2D, MaxPooling2D, Dense\n",
    "from keras import Sequential\n",
    "\n",
    "simple_conv_model = Sequential([\n",
    "    Conv2D(32, (5,5), activation='relu'),\n",
    "    MaxPooling2D(pool_size=(2,2),strides=(2,2),padding='valid'),\n",
    "    Conv2D(64, (5,5), strides=(1,1)),\n",
    "    MaxPooling2D(pool_size=(2,2),strides=(2,2),padding='valid'),\n",
    "    Flatten(),\n",
    "    Dense(400, activation='relu'),\n",
    "    Dense(120, activation='relu'),\n",
    "    Dense(40, activation='relu'),\n",
    "    Dense(10, activation='softmax')\n",
    "])\n",
    "\n",
    "simple_conv_model.compile(optimizer='rmsprop', loss='categorical_crossentropy', metrics=['accuracy'])"
   ]
  },
  {
   "cell_type": "code",
   "execution_count": 18,
   "metadata": {},
   "outputs": [
    {
     "name": "stdout",
     "output_type": "stream",
     "text": [
      "Epoch 1/100\n"
     ]
    },
    {
     "name": "stderr",
     "output_type": "stream",
     "text": [
      "2022-06-23 00:58:03.683154: I tensorflow/stream_executor/cuda/cuda_dnn.cc:384] Loaded cuDNN version 8100\n",
      "2022-06-23 00:58:04.820407: I tensorflow/core/platform/default/subprocess.cc:304] Start cannot spawn child process: No such file or directory\n",
      "2022-06-23 00:58:04.820889: I tensorflow/core/platform/default/subprocess.cc:304] Start cannot spawn child process: No such file or directory\n",
      "2022-06-23 00:58:04.820908: W tensorflow/stream_executor/gpu/asm_compiler.cc:80] Couldn't get ptxas version string: INTERNAL: Couldn't invoke ptxas --version\n",
      "2022-06-23 00:58:04.821387: I tensorflow/core/platform/default/subprocess.cc:304] Start cannot spawn child process: No such file or directory\n",
      "2022-06-23 00:58:04.821438: W tensorflow/stream_executor/gpu/redzone_allocator.cc:314] INTERNAL: Failed to launch ptxas\n",
      "Relying on driver to perform ptx compilation. \n",
      "Modify $PATH to customize ptxas location.\n",
      "This message will be only logged once.\n"
     ]
    },
    {
     "name": "stdout",
     "output_type": "stream",
     "text": [
      "196/196 [==============================] - 4s 8ms/step - loss: 1.8555 - accuracy: 0.3302 - val_loss: 1.6936 - val_accuracy: 0.4130\n",
      "Epoch 2/100\n",
      "196/196 [==============================] - 1s 6ms/step - loss: 1.4783 - accuracy: 0.4772 - val_loss: 1.5139 - val_accuracy: 0.4694\n",
      "Epoch 3/100\n",
      "196/196 [==============================] - 1s 6ms/step - loss: 1.2663 - accuracy: 0.5548 - val_loss: 1.3039 - val_accuracy: 0.5461\n",
      "Epoch 4/100\n",
      "196/196 [==============================] - 1s 6ms/step - loss: 1.1050 - accuracy: 0.6135 - val_loss: 1.1383 - val_accuracy: 0.5970\n",
      "Epoch 5/100\n",
      "196/196 [==============================] - 1s 6ms/step - loss: 0.9818 - accuracy: 0.6595 - val_loss: 1.1536 - val_accuracy: 0.6050\n",
      "Epoch 6/100\n",
      "196/196 [==============================] - 1s 6ms/step - loss: 0.8743 - accuracy: 0.6946 - val_loss: 1.0554 - val_accuracy: 0.6283\n",
      "Epoch 7/100\n",
      "196/196 [==============================] - 1s 6ms/step - loss: 0.7822 - accuracy: 0.7309 - val_loss: 1.1305 - val_accuracy: 0.6165\n",
      "Epoch 8/100\n",
      "196/196 [==============================] - 1s 6ms/step - loss: 0.6815 - accuracy: 0.7643 - val_loss: 1.0261 - val_accuracy: 0.6684\n",
      "Epoch 9/100\n",
      "196/196 [==============================] - 1s 6ms/step - loss: 0.5941 - accuracy: 0.7952 - val_loss: 1.1171 - val_accuracy: 0.6426\n",
      "Epoch 10/100\n",
      "196/196 [==============================] - 1s 6ms/step - loss: 0.5130 - accuracy: 0.8238 - val_loss: 1.1144 - val_accuracy: 0.6571\n",
      "Epoch 11/100\n",
      "196/196 [==============================] - 1s 6ms/step - loss: 0.4310 - accuracy: 0.8504 - val_loss: 1.1833 - val_accuracy: 0.6566\n",
      "Epoch 12/100\n",
      "196/196 [==============================] - 1s 6ms/step - loss: 0.3612 - accuracy: 0.8750 - val_loss: 1.4849 - val_accuracy: 0.6229\n",
      "Epoch 13/100\n",
      "196/196 [==============================] - 1s 6ms/step - loss: 0.3046 - accuracy: 0.8944 - val_loss: 1.3846 - val_accuracy: 0.6484\n",
      "Epoch 14/100\n",
      "196/196 [==============================] - 1s 6ms/step - loss: 0.2518 - accuracy: 0.9112 - val_loss: 1.4859 - val_accuracy: 0.6648\n",
      "Epoch 15/100\n",
      "196/196 [==============================] - 1s 6ms/step - loss: 0.2094 - accuracy: 0.9291 - val_loss: 1.5668 - val_accuracy: 0.6737\n",
      "Epoch 16/100\n",
      "196/196 [==============================] - 1s 6ms/step - loss: 0.1762 - accuracy: 0.9397 - val_loss: 1.8291 - val_accuracy: 0.6584\n",
      "Epoch 17/100\n",
      "196/196 [==============================] - 1s 7ms/step - loss: 0.1571 - accuracy: 0.9471 - val_loss: 1.6896 - val_accuracy: 0.6745\n",
      "Epoch 18/100\n",
      "196/196 [==============================] - 1s 6ms/step - loss: 0.1366 - accuracy: 0.9529 - val_loss: 1.8721 - val_accuracy: 0.6595\n",
      "Epoch 19/100\n",
      "196/196 [==============================] - 1s 6ms/step - loss: 0.1247 - accuracy: 0.9581 - val_loss: 1.9529 - val_accuracy: 0.6700\n",
      "Epoch 20/100\n",
      "196/196 [==============================] - 1s 6ms/step - loss: 0.1144 - accuracy: 0.9613 - val_loss: 2.0436 - val_accuracy: 0.6450\n",
      "Epoch 21/100\n",
      "196/196 [==============================] - 1s 6ms/step - loss: 0.1019 - accuracy: 0.9648 - val_loss: 2.0382 - val_accuracy: 0.6394\n",
      "Epoch 22/100\n",
      "196/196 [==============================] - 1s 6ms/step - loss: 0.0989 - accuracy: 0.9666 - val_loss: 2.3402 - val_accuracy: 0.6594\n",
      "Epoch 23/100\n",
      "196/196 [==============================] - 1s 6ms/step - loss: 0.0937 - accuracy: 0.9687 - val_loss: 2.3566 - val_accuracy: 0.6663\n",
      "Epoch 24/100\n",
      "196/196 [==============================] - 1s 6ms/step - loss: 0.0891 - accuracy: 0.9708 - val_loss: 2.4785 - val_accuracy: 0.6526\n",
      "Epoch 25/100\n",
      "196/196 [==============================] - 1s 6ms/step - loss: 0.0881 - accuracy: 0.9708 - val_loss: 2.3986 - val_accuracy: 0.6643\n",
      "Epoch 26/100\n",
      "196/196 [==============================] - 1s 6ms/step - loss: 0.0797 - accuracy: 0.9730 - val_loss: 2.5705 - val_accuracy: 0.6745\n",
      "Epoch 27/100\n",
      "196/196 [==============================] - 1s 6ms/step - loss: 0.0759 - accuracy: 0.9743 - val_loss: 2.4607 - val_accuracy: 0.6745\n",
      "Epoch 28/100\n",
      "196/196 [==============================] - 1s 6ms/step - loss: 0.0787 - accuracy: 0.9753 - val_loss: 2.9368 - val_accuracy: 0.6247\n",
      "Epoch 29/100\n",
      "196/196 [==============================] - 1s 6ms/step - loss: 0.0734 - accuracy: 0.9758 - val_loss: 2.6024 - val_accuracy: 0.6677\n",
      "Epoch 30/100\n",
      "196/196 [==============================] - 1s 6ms/step - loss: 0.0714 - accuracy: 0.9763 - val_loss: 2.6554 - val_accuracy: 0.6807\n",
      "Epoch 31/100\n",
      "196/196 [==============================] - 1s 6ms/step - loss: 0.0687 - accuracy: 0.9771 - val_loss: 2.6026 - val_accuracy: 0.6664\n",
      "Epoch 32/100\n",
      "196/196 [==============================] - 1s 6ms/step - loss: 0.0664 - accuracy: 0.9790 - val_loss: 2.8131 - val_accuracy: 0.6806\n",
      "Epoch 33/100\n",
      "196/196 [==============================] - 1s 6ms/step - loss: 0.0647 - accuracy: 0.9798 - val_loss: 3.2443 - val_accuracy: 0.6455\n",
      "Epoch 34/100\n",
      "196/196 [==============================] - 1s 6ms/step - loss: 0.0641 - accuracy: 0.9801 - val_loss: 3.0511 - val_accuracy: 0.6565\n",
      "Epoch 35/100\n",
      "196/196 [==============================] - 1s 6ms/step - loss: 0.0610 - accuracy: 0.9802 - val_loss: 2.7361 - val_accuracy: 0.6814\n",
      "Epoch 36/100\n",
      "196/196 [==============================] - 1s 6ms/step - loss: 0.0602 - accuracy: 0.9802 - val_loss: 3.1662 - val_accuracy: 0.6609\n",
      "Epoch 37/100\n",
      "196/196 [==============================] - 1s 6ms/step - loss: 0.0600 - accuracy: 0.9811 - val_loss: 2.9079 - val_accuracy: 0.6710\n",
      "Epoch 38/100\n",
      "196/196 [==============================] - 1s 6ms/step - loss: 0.0585 - accuracy: 0.9820 - val_loss: 3.2946 - val_accuracy: 0.6438\n",
      "Epoch 39/100\n",
      "196/196 [==============================] - 1s 6ms/step - loss: 0.0557 - accuracy: 0.9825 - val_loss: 3.1958 - val_accuracy: 0.6621\n",
      "Epoch 40/100\n",
      "196/196 [==============================] - 1s 6ms/step - loss: 0.0564 - accuracy: 0.9822 - val_loss: 3.6848 - val_accuracy: 0.6298\n",
      "Epoch 41/100\n",
      "196/196 [==============================] - 1s 7ms/step - loss: 0.0544 - accuracy: 0.9830 - val_loss: 3.3671 - val_accuracy: 0.6354\n",
      "Epoch 42/100\n",
      "196/196 [==============================] - 1s 7ms/step - loss: 0.0526 - accuracy: 0.9842 - val_loss: 3.1937 - val_accuracy: 0.6554\n",
      "Epoch 43/100\n",
      "196/196 [==============================] - 1s 7ms/step - loss: 0.0512 - accuracy: 0.9837 - val_loss: 3.2512 - val_accuracy: 0.6462\n",
      "Epoch 44/100\n",
      "196/196 [==============================] - 1s 7ms/step - loss: 0.0545 - accuracy: 0.9840 - val_loss: 3.4627 - val_accuracy: 0.6513\n",
      "Epoch 45/100\n",
      "196/196 [==============================] - 1s 7ms/step - loss: 0.0527 - accuracy: 0.9837 - val_loss: 3.2668 - val_accuracy: 0.6672\n",
      "Epoch 46/100\n",
      "196/196 [==============================] - 1s 7ms/step - loss: 0.0481 - accuracy: 0.9850 - val_loss: 3.3122 - val_accuracy: 0.6673\n",
      "Epoch 47/100\n",
      "196/196 [==============================] - 1s 7ms/step - loss: 0.0500 - accuracy: 0.9850 - val_loss: 3.2507 - val_accuracy: 0.6728\n",
      "Epoch 48/100\n",
      "196/196 [==============================] - 1s 7ms/step - loss: 0.0499 - accuracy: 0.9854 - val_loss: 3.4797 - val_accuracy: 0.6617\n",
      "Epoch 49/100\n",
      "196/196 [==============================] - 1s 7ms/step - loss: 0.0512 - accuracy: 0.9848 - val_loss: 3.4725 - val_accuracy: 0.6719\n",
      "Epoch 50/100\n",
      "196/196 [==============================] - 1s 7ms/step - loss: 0.0457 - accuracy: 0.9857 - val_loss: 3.4182 - val_accuracy: 0.6626\n",
      "Epoch 51/100\n",
      "196/196 [==============================] - 1s 7ms/step - loss: 0.0489 - accuracy: 0.9853 - val_loss: 3.3940 - val_accuracy: 0.6718\n",
      "Epoch 52/100\n",
      "196/196 [==============================] - 1s 7ms/step - loss: 0.0447 - accuracy: 0.9865 - val_loss: 3.4364 - val_accuracy: 0.6737\n",
      "Epoch 53/100\n",
      "196/196 [==============================] - 1s 7ms/step - loss: 0.0483 - accuracy: 0.9862 - val_loss: 3.6649 - val_accuracy: 0.6600\n",
      "Epoch 54/100\n",
      "196/196 [==============================] - 1s 7ms/step - loss: 0.0456 - accuracy: 0.9866 - val_loss: 3.2389 - val_accuracy: 0.6699\n",
      "Epoch 55/100\n",
      "196/196 [==============================] - 1s 7ms/step - loss: 0.0447 - accuracy: 0.9873 - val_loss: 4.4848 - val_accuracy: 0.6523\n",
      "Epoch 56/100\n",
      "196/196 [==============================] - 1s 7ms/step - loss: 0.0412 - accuracy: 0.9877 - val_loss: 3.5622 - val_accuracy: 0.6709\n",
      "Epoch 57/100\n",
      "196/196 [==============================] - 1s 7ms/step - loss: 0.0439 - accuracy: 0.9873 - val_loss: 3.7737 - val_accuracy: 0.6632\n",
      "Epoch 58/100\n",
      "196/196 [==============================] - 1s 6ms/step - loss: 0.0407 - accuracy: 0.9875 - val_loss: 3.8568 - val_accuracy: 0.6651\n",
      "Epoch 59/100\n",
      "196/196 [==============================] - 1s 7ms/step - loss: 0.0453 - accuracy: 0.9875 - val_loss: 3.9859 - val_accuracy: 0.6692\n",
      "Epoch 60/100\n",
      "196/196 [==============================] - 1s 7ms/step - loss: 0.0438 - accuracy: 0.9874 - val_loss: 3.5713 - val_accuracy: 0.6769\n",
      "Epoch 61/100\n",
      "196/196 [==============================] - 1s 7ms/step - loss: 0.0433 - accuracy: 0.9875 - val_loss: 3.6929 - val_accuracy: 0.6612\n",
      "Epoch 62/100\n",
      "196/196 [==============================] - 1s 7ms/step - loss: 0.0417 - accuracy: 0.9884 - val_loss: 3.7066 - val_accuracy: 0.6755\n",
      "Epoch 63/100\n",
      "196/196 [==============================] - 1s 7ms/step - loss: 0.0402 - accuracy: 0.9884 - val_loss: 3.8508 - val_accuracy: 0.6684\n",
      "Epoch 64/100\n",
      "196/196 [==============================] - 1s 6ms/step - loss: 0.0433 - accuracy: 0.9878 - val_loss: 4.3919 - val_accuracy: 0.6433\n",
      "Epoch 65/100\n",
      "196/196 [==============================] - 1s 7ms/step - loss: 0.0438 - accuracy: 0.9877 - val_loss: 3.9533 - val_accuracy: 0.6667\n",
      "Epoch 66/100\n",
      "196/196 [==============================] - 1s 7ms/step - loss: 0.0412 - accuracy: 0.9884 - val_loss: 4.3088 - val_accuracy: 0.6343\n",
      "Epoch 67/100\n",
      "196/196 [==============================] - 1s 7ms/step - loss: 0.0406 - accuracy: 0.9886 - val_loss: 4.3118 - val_accuracy: 0.6451\n",
      "Epoch 68/100\n",
      "196/196 [==============================] - 1s 7ms/step - loss: 0.0418 - accuracy: 0.9886 - val_loss: 3.8413 - val_accuracy: 0.6535\n",
      "Epoch 69/100\n",
      "196/196 [==============================] - 1s 7ms/step - loss: 0.0400 - accuracy: 0.9892 - val_loss: 3.9980 - val_accuracy: 0.6665\n",
      "Epoch 70/100\n",
      "196/196 [==============================] - 1s 7ms/step - loss: 0.0407 - accuracy: 0.9887 - val_loss: 4.2103 - val_accuracy: 0.6575\n",
      "Epoch 71/100\n",
      "196/196 [==============================] - 1s 7ms/step - loss: 0.0402 - accuracy: 0.9889 - val_loss: 3.8379 - val_accuracy: 0.6724\n",
      "Epoch 72/100\n",
      "196/196 [==============================] - 1s 7ms/step - loss: 0.0358 - accuracy: 0.9905 - val_loss: 3.8637 - val_accuracy: 0.6703\n",
      "Epoch 73/100\n",
      "196/196 [==============================] - 1s 7ms/step - loss: 0.0342 - accuracy: 0.9904 - val_loss: 4.7125 - val_accuracy: 0.6215\n",
      "Epoch 74/100\n",
      "196/196 [==============================] - 1s 7ms/step - loss: 0.0415 - accuracy: 0.9890 - val_loss: 4.2531 - val_accuracy: 0.6611\n",
      "Epoch 75/100\n",
      "196/196 [==============================] - 1s 7ms/step - loss: 0.0348 - accuracy: 0.9900 - val_loss: 4.0524 - val_accuracy: 0.6706\n",
      "Epoch 76/100\n",
      "196/196 [==============================] - 1s 7ms/step - loss: 0.0354 - accuracy: 0.9898 - val_loss: 4.1883 - val_accuracy: 0.6675\n",
      "Epoch 77/100\n",
      "196/196 [==============================] - 1s 7ms/step - loss: 0.0343 - accuracy: 0.9901 - val_loss: 4.1504 - val_accuracy: 0.6616\n",
      "Epoch 78/100\n",
      "196/196 [==============================] - 1s 7ms/step - loss: 0.0372 - accuracy: 0.9901 - val_loss: 4.4430 - val_accuracy: 0.6720\n",
      "Epoch 79/100\n",
      "196/196 [==============================] - 1s 7ms/step - loss: 0.0347 - accuracy: 0.9911 - val_loss: 4.2790 - val_accuracy: 0.6681\n",
      "Epoch 80/100\n",
      "196/196 [==============================] - 1s 7ms/step - loss: 0.0375 - accuracy: 0.9895 - val_loss: 4.4985 - val_accuracy: 0.6578\n",
      "Epoch 81/100\n",
      "196/196 [==============================] - 1s 7ms/step - loss: 0.0352 - accuracy: 0.9899 - val_loss: 4.2314 - val_accuracy: 0.6720\n",
      "Epoch 82/100\n",
      "196/196 [==============================] - 1s 6ms/step - loss: 0.0334 - accuracy: 0.9907 - val_loss: 4.5537 - val_accuracy: 0.6681\n",
      "Epoch 83/100\n",
      "196/196 [==============================] - 1s 7ms/step - loss: 0.0335 - accuracy: 0.9913 - val_loss: 5.8715 - val_accuracy: 0.6218\n",
      "Epoch 84/100\n",
      "196/196 [==============================] - 1s 6ms/step - loss: 0.0373 - accuracy: 0.9901 - val_loss: 4.6712 - val_accuracy: 0.6696\n",
      "Epoch 85/100\n",
      "196/196 [==============================] - 1s 6ms/step - loss: 0.0355 - accuracy: 0.9909 - val_loss: 4.4889 - val_accuracy: 0.6672\n",
      "Epoch 86/100\n",
      "196/196 [==============================] - 1s 6ms/step - loss: 0.0344 - accuracy: 0.9906 - val_loss: 4.5367 - val_accuracy: 0.6598\n",
      "Epoch 87/100\n",
      "196/196 [==============================] - 1s 6ms/step - loss: 0.0365 - accuracy: 0.9900 - val_loss: 4.5239 - val_accuracy: 0.6675\n",
      "Epoch 88/100\n",
      "196/196 [==============================] - 1s 6ms/step - loss: 0.0355 - accuracy: 0.9906 - val_loss: 4.3778 - val_accuracy: 0.6608\n",
      "Epoch 89/100\n",
      "196/196 [==============================] - 1s 6ms/step - loss: 0.0374 - accuracy: 0.9900 - val_loss: 4.6385 - val_accuracy: 0.6518\n",
      "Epoch 90/100\n",
      "196/196 [==============================] - 1s 6ms/step - loss: 0.0336 - accuracy: 0.9908 - val_loss: 4.6679 - val_accuracy: 0.6608\n",
      "Epoch 91/100\n",
      "196/196 [==============================] - 1s 6ms/step - loss: 0.0357 - accuracy: 0.9910 - val_loss: 4.3970 - val_accuracy: 0.6746\n",
      "Epoch 92/100\n",
      "196/196 [==============================] - 1s 6ms/step - loss: 0.0321 - accuracy: 0.9916 - val_loss: 4.8058 - val_accuracy: 0.6599\n",
      "Epoch 93/100\n",
      "196/196 [==============================] - 1s 6ms/step - loss: 0.0331 - accuracy: 0.9912 - val_loss: 5.0528 - val_accuracy: 0.6639\n",
      "Epoch 94/100\n",
      "196/196 [==============================] - 1s 7ms/step - loss: 0.0372 - accuracy: 0.9908 - val_loss: 4.7613 - val_accuracy: 0.6587\n",
      "Epoch 95/100\n",
      "196/196 [==============================] - 1s 7ms/step - loss: 0.0344 - accuracy: 0.9912 - val_loss: 4.8804 - val_accuracy: 0.6650\n",
      "Epoch 96/100\n",
      "196/196 [==============================] - 1s 6ms/step - loss: 0.0360 - accuracy: 0.9907 - val_loss: 4.8959 - val_accuracy: 0.6637\n",
      "Epoch 97/100\n",
      "196/196 [==============================] - 1s 6ms/step - loss: 0.0346 - accuracy: 0.9913 - val_loss: 4.6088 - val_accuracy: 0.6680\n",
      "Epoch 98/100\n",
      "196/196 [==============================] - 1s 7ms/step - loss: 0.0321 - accuracy: 0.9916 - val_loss: 4.7899 - val_accuracy: 0.6674\n",
      "Epoch 99/100\n",
      "196/196 [==============================] - 1s 7ms/step - loss: 0.0331 - accuracy: 0.9910 - val_loss: 4.7653 - val_accuracy: 0.6644\n",
      "Epoch 100/100\n",
      "196/196 [==============================] - 1s 6ms/step - loss: 0.0325 - accuracy: 0.9916 - val_loss: 5.0057 - val_accuracy: 0.6552\n"
     ]
    },
    {
     "data": {
      "text/plain": [
       "<keras.callbacks.History at 0x7f52c1d16b20>"
      ]
     },
     "execution_count": 18,
     "metadata": {},
     "output_type": "execute_result"
    }
   ],
   "source": [
    "simple_conv_model.fit(X_train_scaled, y_train_one_hot, batch_size=256, validation_data=(X_test_scaled, y_test_one_hot), epochs=100)"
   ]
  },
  {
   "cell_type": "markdown",
   "metadata": {},
   "source": [
    "First model evaluation is showing ENORMOUS overfitting after 100 epochs loss on train set is 0.03 wheras on validation set it is over 5. To prevent this we are going to apply dropout regularization and create EarlyStopping instance to stop learning after certain point"
   ]
  },
  {
   "cell_type": "code",
   "execution_count": 19,
   "metadata": {},
   "outputs": [],
   "source": [
    "from keras.layers import Dropout\n",
    "from keras.callbacks import EarlyStopping\n",
    "\n",
    "simple_conv_model_v2 = Sequential([\n",
    "    Conv2D(32, (5,5)),\n",
    "    MaxPooling2D(pool_size=(2,2),strides=(2,2),padding='valid'),\n",
    "    Conv2D(64, (5,5), strides=(1,1)),\n",
    "    MaxPooling2D(pool_size=(2,2),strides=(2,2),padding='valid'),\n",
    "    Flatten(),\n",
    "    Dense(400, activation='relu'),\n",
    "    Dropout(0.5),\n",
    "    Dense(120, activation='relu'),\n",
    "    Dense(40, activation='relu'),\n",
    "    Dropout(0.5),\n",
    "    Dense(10, activation='softmax')\n",
    "])\n",
    "\n",
    "simple_conv_model_v2.compile(optimizer='adam', loss='categorical_crossentropy', metrics=['accuracy'])\n",
    "callback = EarlyStopping(monitor='val_loss', mode='min', verbose=1)"
   ]
  },
  {
   "cell_type": "code",
   "execution_count": null,
   "metadata": {},
   "outputs": [],
   "source": []
  },
  {
   "cell_type": "markdown",
   "metadata": {},
   "source": []
  }
 ],
 "metadata": {
  "kernelspec": {
   "display_name": "Python 3.9.12 ('tf': conda)",
   "language": "python",
   "name": "python3"
  },
  "language_info": {
   "name": "python",
   "version": "3.9.12"
  },
  "orig_nbformat": 4,
  "vscode": {
   "interpreter": {
    "hash": "524e827a62e851a22504cb633a8b21e398dd8e48b4ad2b53360e28277efb9acc"
   }
  }
 },
 "nbformat": 4,
 "nbformat_minor": 2
}
