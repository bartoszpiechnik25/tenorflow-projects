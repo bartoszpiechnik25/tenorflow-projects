{
 "cells": [
  {
   "cell_type": "code",
   "execution_count": 4,
   "metadata": {},
   "outputs": [],
   "source": [
    "from keras.datasets import imdb\n",
    "import numpy as np"
   ]
  },
  {
   "cell_type": "code",
   "execution_count": 2,
   "metadata": {},
   "outputs": [
    {
     "name": "stdout",
     "output_type": "stream",
     "text": [
      "Downloading data from https://storage.googleapis.com/tensorflow/tf-keras-datasets/imdb.npz\n",
      "17464789/17464789 [==============================] - 1s 0us/step\n"
     ]
    }
   ],
   "source": [
    "(train_data, train_labels), (test_data, test_labels) = imdb.load_data(num_words=10000)"
   ]
  },
  {
   "cell_type": "code",
   "execution_count": 3,
   "metadata": {},
   "outputs": [
    {
     "name": "stdout",
     "output_type": "stream",
     "text": [
      "Downloading data from https://storage.googleapis.com/tensorflow/tf-keras-datasets/imdb_word_index.json\n",
      "1641221/1641221 [==============================] - 0s 0us/step\n"
     ]
    }
   ],
   "source": [
    "word_index = imdb.get_word_index()\n",
    "reverse_word_index = dict([(value, key) for (key, value) in word_index.items()])\n",
    "\n",
    "decoded_review = ' '.join([reverse_word_index.get(i -3, '?') for i in train_data[0]])"
   ]
  },
  {
   "cell_type": "code",
   "execution_count": 7,
   "metadata": {},
   "outputs": [],
   "source": [
    "def vectorize(sequences):\n",
    "    result = np.zeros(shape=(len(sequences), 10000))\n",
    "    for i, sequence in enumerate(sequences):\n",
    "        for j in sequence:\n",
    "            result[i, j] = 1\n",
    "    return result"
   ]
  },
  {
   "cell_type": "code",
   "execution_count": 9,
   "metadata": {},
   "outputs": [],
   "source": [
    "X_train = vectorize(train_data)\n",
    "X_test = vectorize(test_data)\n",
    "\n",
    "y_train = np.asarray(train_labels).astype('float32')\n",
    "y_test = np.asarray(test_labels).astype('float32')"
   ]
  },
  {
   "cell_type": "code",
   "execution_count": 12,
   "metadata": {},
   "outputs": [],
   "source": [
    "from keras import layers\n",
    "from keras import Sequential"
   ]
  },
  {
   "cell_type": "code",
   "execution_count": 67,
   "metadata": {},
   "outputs": [],
   "source": [
    "model = Sequential([layers.Dense(64, activation='relu'),\n",
    "                    layers.Dense(32, activation='relu'),\n",
    "                    layers.Dense(32, activation='relu'),\n",
    "                    layers.Dense(1, activation='sigmoid')])"
   ]
  },
  {
   "cell_type": "code",
   "execution_count": 68,
   "metadata": {},
   "outputs": [],
   "source": [
    "model.compile(optimizer='adam',\n",
    "            loss='binary_crossentropy',\n",
    "            metrics=['accuracy'])"
   ]
  },
  {
   "cell_type": "code",
   "execution_count": 69,
   "metadata": {},
   "outputs": [],
   "source": [
    "k = 10000\n",
    "X_val = X_train[:k]\n",
    "part_X_train = X_train[k: ]\n",
    "\n",
    "y_val = y_train[:k]\n",
    "part_y_train = y_train[k: ]"
   ]
  },
  {
   "cell_type": "code",
   "execution_count": 70,
   "metadata": {},
   "outputs": [
    {
     "name": "stdout",
     "output_type": "stream",
     "text": [
      "Epoch 1/20\n",
      "30/30 [==============================] - 6s 102ms/step - loss: 0.4860 - accuracy: 0.7762 - val_loss: 0.3087 - val_accuracy: 0.8766\n",
      "Epoch 2/20\n",
      "30/30 [==============================] - 1s 43ms/step - loss: 0.2057 - accuracy: 0.9250 - val_loss: 0.2883 - val_accuracy: 0.8839\n",
      "Epoch 3/20\n",
      "30/30 [==============================] - 1s 42ms/step - loss: 0.1189 - accuracy: 0.9603 - val_loss: 0.3348 - val_accuracy: 0.8806\n",
      "Epoch 4/20\n",
      "30/30 [==============================] - 2s 52ms/step - loss: 0.0703 - accuracy: 0.9790 - val_loss: 0.4017 - val_accuracy: 0.8751\n",
      "Epoch 5/20\n",
      "30/30 [==============================] - 1s 42ms/step - loss: 0.0430 - accuracy: 0.9886 - val_loss: 0.4674 - val_accuracy: 0.8729\n",
      "Epoch 6/20\n",
      "30/30 [==============================] - 1s 41ms/step - loss: 0.0236 - accuracy: 0.9960 - val_loss: 0.5474 - val_accuracy: 0.8699\n",
      "Epoch 7/20\n",
      "30/30 [==============================] - 1s 46ms/step - loss: 0.0111 - accuracy: 0.9991 - val_loss: 0.6144 - val_accuracy: 0.8672\n",
      "Epoch 8/20\n",
      "30/30 [==============================] - 1s 47ms/step - loss: 0.0050 - accuracy: 0.9999 - val_loss: 0.6637 - val_accuracy: 0.8671\n",
      "Epoch 9/20\n",
      "30/30 [==============================] - 1s 41ms/step - loss: 0.0028 - accuracy: 0.9999 - val_loss: 0.7034 - val_accuracy: 0.8671\n",
      "Epoch 10/20\n",
      "30/30 [==============================] - 1s 39ms/step - loss: 0.0018 - accuracy: 0.9999 - val_loss: 0.7339 - val_accuracy: 0.8669\n",
      "Epoch 11/20\n",
      "30/30 [==============================] - 2s 52ms/step - loss: 0.0013 - accuracy: 0.9999 - val_loss: 0.7610 - val_accuracy: 0.8673\n",
      "Epoch 12/20\n",
      "30/30 [==============================] - 2s 59ms/step - loss: 0.0010 - accuracy: 0.9999 - val_loss: 0.7799 - val_accuracy: 0.8665\n",
      "Epoch 13/20\n",
      "30/30 [==============================] - 2s 64ms/step - loss: 8.3051e-04 - accuracy: 0.9999 - val_loss: 0.7996 - val_accuracy: 0.8665\n",
      "Epoch 14/20\n",
      "30/30 [==============================] - 1s 42ms/step - loss: 6.4817e-04 - accuracy: 0.9999 - val_loss: 0.8182 - val_accuracy: 0.8665\n",
      "Epoch 15/20\n",
      "30/30 [==============================] - 1s 35ms/step - loss: 5.1667e-04 - accuracy: 1.0000 - val_loss: 0.8356 - val_accuracy: 0.8671\n",
      "Epoch 16/20\n",
      "30/30 [==============================] - 1s 43ms/step - loss: 4.1922e-04 - accuracy: 1.0000 - val_loss: 0.8501 - val_accuracy: 0.8673\n",
      "Epoch 17/20\n",
      "30/30 [==============================] - 1s 35ms/step - loss: 3.5350e-04 - accuracy: 1.0000 - val_loss: 0.8629 - val_accuracy: 0.8673\n",
      "Epoch 18/20\n",
      "30/30 [==============================] - 1s 37ms/step - loss: 2.9954e-04 - accuracy: 1.0000 - val_loss: 0.8756 - val_accuracy: 0.8670\n",
      "Epoch 19/20\n",
      "30/30 [==============================] - 1s 35ms/step - loss: 2.5893e-04 - accuracy: 1.0000 - val_loss: 0.8880 - val_accuracy: 0.8672\n",
      "Epoch 20/20\n",
      "30/30 [==============================] - 1s 36ms/step - loss: 2.2637e-04 - accuracy: 1.0000 - val_loss: 0.8992 - val_accuracy: 0.8670\n"
     ]
    }
   ],
   "source": [
    "history = model.fit(part_X_train,\n",
    "        part_y_train,\n",
    "        batch_size=512,\n",
    "        epochs=20,\n",
    "        validation_data=(X_val, y_val))"
   ]
  },
  {
   "cell_type": "code",
   "execution_count": 71,
   "metadata": {},
   "outputs": [],
   "source": [
    "import matplotlib.pyplot as plt\n",
    "\n",
    "%matplotlib inline"
   ]
  },
  {
   "cell_type": "code",
   "execution_count": 72,
   "metadata": {},
   "outputs": [],
   "source": [
    "model_hist = history.history"
   ]
  },
  {
   "cell_type": "code",
   "execution_count": 73,
   "metadata": {},
   "outputs": [
    {
     "data": {
      "text/plain": [
       "Text(0, 0.5, 'Loss')"
      ]
     },
     "execution_count": 73,
     "metadata": {},
     "output_type": "execute_result"
    },
    {
     "data": {
      "image/png": "[encoded data removed]",
      "text/plain": [
       "<Figure size 800x500 with 1 Axes>"
      ]
     },
     "metadata": {
      "needs_background": "light"
     },
     "output_type": "display_data"
    }
   ],
   "source": [
    "plt.figure(dpi=100, figsize=(8,5))\n",
    "plt.plot(range(1, len(model_hist['loss']) + 1),\n",
    "        model_hist['loss'],\n",
    "        '-',\n",
    "        color='darkorange',\n",
    "        label='Training loss')\n",
    "plt.plot(range(1, len(model_hist['loss']) + 1),\n",
    "        model_hist['val_loss'],\n",
    "        '--',\n",
    "        color='skyblue',\n",
    "        label='Validation loss')\n",
    "plt.legend()\n",
    "plt.xlabel('Epochs')\n",
    "plt.ylabel('Loss')"
   ]
  },
  {
   "cell_type": "markdown",
   "metadata": {},
   "source": [
    "### As we can see model is clearly overfitting. To prevent this we can for example early stop at epoch number 2."
   ]
  },
  {
   "cell_type": "code",
   "execution_count": 74,
   "metadata": {},
   "outputs": [
    {
     "data": {
      "text/plain": [
       "Text(0, 0.5, 'Accuracy %')"
      ]
     },
     "execution_count": 74,
     "metadata": {},
     "output_type": "execute_result"
    },
    {
     "data": {
      "image/png": "[encoded data removed]",
      "text/plain": [
       "<Figure size 800x500 with 1 Axes>"
      ]
     },
     "metadata": {
      "needs_background": "light"
     },
     "output_type": "display_data"
    }
   ],
   "source": [
    "plt.figure(dpi=100, figsize=(8,5))\n",
    "plt.plot(range(0, len(model_hist['loss'])),\n",
    "        np.array(model_hist['accuracy'])*100,\n",
    "        'o',\n",
    "        color='orange',\n",
    "        label='Training accuracy')\n",
    "plt.plot(range(0, len(model_hist['loss'])),\n",
    "        np.array(model_hist['val_accuracy'])*100,\n",
    "        '--',\n",
    "        color='blue',\n",
    "        label='Validation accuracy')\n",
    "plt.legend()\n",
    "plt.xlabel('Epochs')\n",
    "plt.ylabel('Accuracy %')"
   ]
  },
  {
   "cell_type": "code",
   "execution_count": 75,
   "metadata": {},
   "outputs": [
    {
     "name": "stdout",
     "output_type": "stream",
     "text": [
      " 10/782 [..............................] - ETA: 4s - loss: 0.8232 - accuracy: 0.8719 "
     ]
    },
    {
     "name": "stderr",
     "output_type": "stream",
     "text": [
      "2022-06-03 17:25:09.162955: W tensorflow/core/framework/cpu_allocator_impl.cc:82] Allocation of 1000000000 exceeds 10% of free system memory.\n"
     ]
    },
    {
     "name": "stdout",
     "output_type": "stream",
     "text": [
      "782/782 [==============================] - 4s 5ms/step - loss: 0.9853 - accuracy: 0.8556\n"
     ]
    },
    {
     "data": {
      "text/plain": [
       "[0.9853184223175049, 0.8556399941444397]"
      ]
     },
     "execution_count": 75,
     "metadata": {},
     "output_type": "execute_result"
    }
   ],
   "source": [
    "result = model.evaluate(X_test, y_test)\n",
    "result\n"
   ]
  },
  {
   "cell_type": "code",
   "execution_count": 78,
   "metadata": {},
   "outputs": [
    {
     "name": "stdout",
     "output_type": "stream",
     "text": [
      "Epoch 1/2\n"
     ]
    },
    {
     "name": "stderr",
     "output_type": "stream",
     "text": [
      "2022-06-03 17:30:23.700961: W tensorflow/core/framework/cpu_allocator_impl.cc:82] Allocation of 1000000000 exceeds 10% of free system memory.\n"
     ]
    },
    {
     "name": "stdout",
     "output_type": "stream",
     "text": [
      "49/49 [==============================] - 4s 40ms/step - loss: 0.4000 - accuracy: 0.8366\n",
      "Epoch 2/2\n",
      "49/49 [==============================] - 2s 33ms/step - loss: 0.1914 - accuracy: 0.9299\n"
     ]
    },
    {
     "name": "stderr",
     "output_type": "stream",
     "text": [
      "2022-06-03 17:30:34.156561: W tensorflow/core/framework/cpu_allocator_impl.cc:82] Allocation of 1000000000 exceeds 10% of free system memory.\n"
     ]
    },
    {
     "name": "stdout",
     "output_type": "stream",
     "text": [
      "782/782 [==============================] - 5s 5ms/step - loss: 0.3104 - accuracy: 0.8776\n"
     ]
    },
    {
     "data": {
      "text/plain": [
       "[0.3103760778903961, 0.8776400089263916]"
      ]
     },
     "execution_count": 78,
     "metadata": {},
     "output_type": "execute_result"
    }
   ],
   "source": [
    "better_model = Sequential([layers.Dense(64, activation='relu'),\n",
    "                        layers.Dense(32, activation='relu'),\n",
    "                        layers.Dense(32, activation='relu'),\n",
    "                        layers.Dense(1, activation='sigmoid')])\n",
    "better_model.compile(optimizer='adam',\n",
    "                    metrics=['accuracy'],\n",
    "                    loss='binary_crossentropy')\n",
    "better_model.fit(X_train, y_train, batch_size=512, epochs=2)\n",
    "better_model.evaluate(X_test, y_test)"
   ]
  }
 ],
 "metadata": {
  "kernelspec": {
   "display_name": "Python 3.9.12 ('tf')",
   "language": "python",
   "name": "python3"
  },
  "language_info": {
   "codemirror_mode": {
    "name": "ipython",
    "version": 3
   },
   "file_extension": ".py",
   "mimetype": "text/x-python",
   "name": "python",
   "nbconvert_exporter": "python",
   "pygments_lexer": "ipython3",
   "version": "3.9.12"
  },
  "orig_nbformat": 4,
  "vscode": {
   "interpreter": {
    "hash": "524e827a62e851a22504cb633a8b21e398dd8e48b4ad2b53360e28277efb9acc"
   }
  }
 },
 "nbformat": 4,
 "nbformat_minor": 2
}
